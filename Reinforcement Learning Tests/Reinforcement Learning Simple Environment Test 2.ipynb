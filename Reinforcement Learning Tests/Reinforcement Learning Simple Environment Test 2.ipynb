{
 "cells": [
  {
   "cell_type": "markdown",
   "id": "35124b60",
   "metadata": {},
   "source": [
    "# Imports"
   ]
  },
  {
   "cell_type": "code",
   "execution_count": 1,
   "id": "27b3885b",
   "metadata": {},
   "outputs": [],
   "source": [
    "from gym import Env\n",
    "from gym.spaces import Discrete, Box\n",
    "import numpy as np\n",
    "import random\n",
    "\n",
    "import numpy as np\n",
    "from tensorflow.keras.models import Sequential\n",
    "from tensorflow.keras.layers import Dense, Flatten\n",
    "from tensorflow.keras.optimizers import Adam\n",
    "\n",
    "from rl.agents import DQNAgent\n",
    "from rl.policy import BoltzmannQPolicy\n",
    "from rl.memory import SequentialMemory"
   ]
  },
  {
   "cell_type": "markdown",
   "id": "7d98df9a",
   "metadata": {},
   "source": [
    "# Environment Data"
   ]
  },
  {
   "cell_type": "code",
   "execution_count": 2,
   "id": "3835bcef",
   "metadata": {},
   "outputs": [],
   "source": [
    "#Imported data taken from the robot's readings of the entire environment.\n",
    "\n",
    "data = [[122, 121, 162, 1792, 1202, 1183, 1183, 1211, 1550, 2169, 2122, 2550, 2550, 2550, 157, 126, 126, 149, 195, 149, 122, 122], [126, 130, 173, 1813, 1198, 1187, 1196, 1541, 1563, 2142, 2163, 2192, 2550, 2550, 2550, 118, 118, 147, 191, 145, 126, 126], [130, 137, 170, 1813, 1211, 1192, 1198, 1231, 1551, 2124, 2162, 2132, 2550, 2550, 139, 113, 113, 135, 213, 191, 130, 130], [130, 138, 162, 1816, 1219, 1198, 1202, 1559, 1567, 2170, 2116, 2155, 2550, 2550, 126, 109, 109, 130, 213, 172, 137, 135], [130, 128, 166, 1809, 1218, 1202, 1198, 1227, 1550, 2137, 2136, 2138, 2550, 2550, 2550, 112, 109, 121, 154, 204, 135, 128], [112, 118, 137, 951, 901, 864, 865, 872, 933, 1300, 2201, 2154, 2550, 2550, 473, 443, 441, 447, 504, 523, 120, 114], [112, 118, 149, 917, 873, 856, 856, 879, 1290, 1303, 2128, 2550, 2550, 2550, 471, 447, 442, 462, 509, 2550, 118, 113], [109, 112, 137, 971, 873, 853, 849, 863, 921, 1301, 2159, 2200, 2550, 2550, 481, 456, 447, 463, 519, 962, 113, 109], [112, 114, 143, 925, 873, 863, 857, 864, 923, 1307, 2122, 2161, 2550, 2550, 474, 447, 447, 455, 504, 1015, 113, 114], [118, 118, 147, 908, 873, 861, 861, 878, 1290, 1305, 2261, 2153, 2550, 2550, 473, 448, 439, 456, 510, 515, 120, 118], [447, 448, 481, 523, 865, 849, 853, 863, 923, 1649, 1695, 1801, 1893, 2550, 483, 464, 455, 464, 504, 670, 447, 443], [447, 456, 483, 1038, 863, 847, 849, 865, 915, 1588, 1808, 1793, 2550, 2550, 483, 460, 460, 475, 666, 496, 454, 452], [454, 460, 488, 500, 861, 842, 847, 873, 1318, 1581, 1494, 1792, 2550, 2550, 481, 460, 460, 475, 668, 490, 456, 454], [452, 455, 491, 500, 853, 843, 842, 871, 905, 1589, 1505, 1797, 1885, 2550, 474, 464, 469, 483, 670, 474, 452, 448], [460, 464, 500, 517, 864, 848, 853, 869, 1317, 1683, 1478, 1793, 1893, 2550, 475, 454, 454, 469, 515, 500, 462, 460], [448, 448, 481, 492, 1217, 1198, 1191, 1217, 2114, 1846, 1816, 1827, 1848, 2441, 158, 120, 120, 130, 154, 479, 452, 446], [443, 443, 473, 479, 1227, 1198, 1202, 1227, 2116, 1893, 1829, 1835, 1857, 2550, 2550, 113, 114, 122, 158, 481, 447, 439], [446, 452, 483, 488, 1210, 1198, 1200, 1234, 2550, 1848, 1821, 1825, 2550, 2550, 2550, 114, 114, 130, 508, 464, 446, 445], [437, 439, 466, 483, 1226, 1202, 1202, 1223, 2550, 2550, 1825, 1821, 2550, 2550, 135, 112, 109, 128, 156, 479, 443, 443], [439, 439, 464, 483, 1218, 1202, 1206, 1237, 2237, 1857, 1823, 1821, 1858, 2386, 147, 114, 107, 126, 149, 474, 446, 436]]\n",
    "\n",
    "Zone_1 = [data[0], data[1], data[2], data[3], data[4]]\n",
    "Zone_2 = [data[5], data[6], data[7], data[8], data[9]]\n",
    "Zone_3 = [data[10], data[11], data[12], data[13], data[14]]\n",
    "Zone_4 = [data[15], data[16], data[17], data[18], data[19]]"
   ]
  },
  {
   "cell_type": "markdown",
   "id": "547c3849",
   "metadata": {},
   "source": [
    "# Training Environment"
   ]
  },
  {
   "cell_type": "code",
   "execution_count": 3,
   "id": "e776d451",
   "metadata": {},
   "outputs": [],
   "source": [
    "class TrainZoneEnv(Env):\n",
    "    def __init__(self):\n",
    "        # Actions we can take: Guess 1 of 4 zones\n",
    "        self.action_space = Discrete(4)\n",
    "        #  array\n",
    "        self.observation_space = Box(low=np.array([0]), high=np.array([3]))\n",
    "        # Set initial Zone Guess\n",
    "        self.state = 0\n",
    "        # Import the real Zone's sensor data\n",
    "        Zone = random.randint(0,3)\n",
    "        Num = 5*(Zone)\n",
    "        sample = data[Num]\n",
    "        self.sensor_data = sample\n",
    "        # Set amount of guesses per run\n",
    "        self.guess_length = 10\n",
    "        \n",
    "    def step(self, action):\n",
    "        # Difine the sensor values for each Zone\n",
    "        sensor_zone = [Zone_1, Zone_2, Zone_3, Zone_4]\n",
    "        #apply the action\n",
    "        self.state = action\n",
    "        # Reduce guess length by 1\n",
    "        self.guess_length -= 1 \n",
    "        \n",
    "        # Calculate reward\n",
    "        # if the sensor data is in the chosen zone class, reward = 1\n",
    "        if self.sensor_data in sensor_zone[self.state]: \n",
    "            reward = 1\n",
    "            correct = True\n",
    "        else: \n",
    "            reward = -1\n",
    "            correct = False\n",
    "        \n",
    "        # Check if guessing is done\n",
    "        if self.guess_length <= 0 or correct == True: \n",
    "            done = True\n",
    "        else:\n",
    "            done = False\n",
    "        \n",
    "        # Set placeholder for info\n",
    "        info = {}\n",
    "        \n",
    "        # Return step information\n",
    "        return self.state, reward, done, info\n",
    "\n",
    "    def render(self):\n",
    "        # Implement viz\n",
    "        pass\n",
    "    \n",
    "    def reset(self):\n",
    "        # Reset Initial Zone Guess\n",
    "        self.state = 0\n",
    "        # Import a new Zone's sensor data\n",
    "        Zone = random.randint(0,3)\n",
    "        Num = 5*(Zone)\n",
    "        sample = data[Num]\n",
    "        self.sensor_data = sample\n",
    "        # Reset Guess amount\n",
    "        self.guess_length = 10\n",
    "        return self.state"
   ]
  },
  {
   "cell_type": "code",
   "execution_count": 4,
   "id": "dfadae5d",
   "metadata": {},
   "outputs": [
    {
     "name": "stdout",
     "output_type": "stream",
     "text": [
      "Episode:1 Score:0 Zone guess:4\n",
      "Episode:2 Score:1 Zone guess:1\n",
      "Episode:3 Score:-2 Zone guess:2\n",
      "Episode:4 Score:-2 Zone guess:2\n",
      "Episode:5 Score:1 Zone guess:2\n",
      "Episode:6 Score:-3 Zone guess:3\n",
      "Episode:7 Score:1 Zone guess:1\n",
      "Episode:8 Score:-3 Zone guess:3\n",
      "Episode:9 Score:0 Zone guess:4\n",
      "Episode:10 Score:-1 Zone guess:2\n"
     ]
    },
    {
     "name": "stderr",
     "output_type": "stream",
     "text": [
      "C:\\Users\\Dylan\\anaconda3\\lib\\site-packages\\gym\\spaces\\box.py:128: UserWarning: \u001b[33mWARN: Box bound precision lowered by casting to float32\u001b[0m\n",
      "  logger.warn(f\"Box bound precision lowered by casting to {self.dtype}\")\n"
     ]
    }
   ],
   "source": [
    "env = TrainZoneEnv()\n",
    "\n",
    "episodes = 10\n",
    "for episode in range(1, episodes+1):\n",
    "    state = env.reset()\n",
    "    done = False\n",
    "    score = 0\n",
    "    \n",
    "    while not done:\n",
    "        action = env.action_space.sample()\n",
    "        n_state, reward, done, info = env.step(action)\n",
    "        score+=reward\n",
    "    print('Episode:{} Score:{} Zone guess:{}'.format(episode, score, n_state+1))"
   ]
  },
  {
   "cell_type": "markdown",
   "id": "3e5c6eaf",
   "metadata": {},
   "source": [
    "# Model Building"
   ]
  },
  {
   "cell_type": "code",
   "execution_count": 5,
   "id": "2b40771b",
   "metadata": {},
   "outputs": [],
   "source": [
    "states = env.observation_space.shape\n",
    "actions = env.action_space.n\n",
    "\n",
    "def build_model(states, actions):\n",
    "    model = Sequential()    \n",
    "    model.add(Dense(24, activation='relu', input_shape=states))\n",
    "    model.add(Dense(24, activation='relu'))\n",
    "    model.add(Dense(actions, activation='linear'))\n",
    "    return model"
   ]
  },
  {
   "cell_type": "code",
   "execution_count": 6,
   "id": "45e317b8",
   "metadata": {},
   "outputs": [
    {
     "ename": "NameError",
     "evalue": "name 'model' is not defined",
     "output_type": "error",
     "traceback": [
      "\u001b[1;31m---------------------------------------------------------------------------\u001b[0m",
      "\u001b[1;31mNameError\u001b[0m                                 Traceback (most recent call last)",
      "\u001b[1;32m~\\AppData\\Local\\Temp/ipykernel_24656/3682394117.py\u001b[0m in \u001b[0;36m<module>\u001b[1;34m\u001b[0m\n\u001b[1;32m----> 1\u001b[1;33m \u001b[1;32mdel\u001b[0m \u001b[0mmodel\u001b[0m\u001b[1;33m\u001b[0m\u001b[1;33m\u001b[0m\u001b[0m\n\u001b[0m",
      "\u001b[1;31mNameError\u001b[0m: name 'model' is not defined"
     ]
    }
   ],
   "source": [
    "del model"
   ]
  },
  {
   "cell_type": "code",
   "execution_count": 7,
   "id": "d03e69e9",
   "metadata": {},
   "outputs": [
    {
     "name": "stdout",
     "output_type": "stream",
     "text": [
      "Model: \"sequential\"\n",
      "_________________________________________________________________\n",
      " Layer (type)                Output Shape              Param #   \n",
      "=================================================================\n",
      " dense (Dense)               (None, 24)                48        \n",
      "                                                                 \n",
      " dense_1 (Dense)             (None, 24)                600       \n",
      "                                                                 \n",
      " dense_2 (Dense)             (None, 4)                 100       \n",
      "                                                                 \n",
      "=================================================================\n",
      "Total params: 748\n",
      "Trainable params: 748\n",
      "Non-trainable params: 0\n",
      "_________________________________________________________________\n"
     ]
    }
   ],
   "source": [
    "model = build_model(states, actions)\n",
    "model.summary()"
   ]
  },
  {
   "cell_type": "code",
   "execution_count": 8,
   "id": "c29efdd0",
   "metadata": {},
   "outputs": [],
   "source": [
    "def build_agent(model, actions):\n",
    "    policy = BoltzmannQPolicy()\n",
    "    memory = SequentialMemory(limit=50000, window_length=1)\n",
    "    dqn = DQNAgent(model=model, memory=memory, policy=policy, \n",
    "                  nb_actions=actions, nb_steps_warmup=10, target_model_update=1e-2)\n",
    "    return dqn"
   ]
  },
  {
   "cell_type": "markdown",
   "id": "e245a2e0",
   "metadata": {},
   "source": [
    "# Model Training"
   ]
  },
  {
   "cell_type": "code",
   "execution_count": 9,
   "id": "402b71d2",
   "metadata": {},
   "outputs": [
    {
     "name": "stderr",
     "output_type": "stream",
     "text": [
      "C:\\Users\\Dylan\\anaconda3\\lib\\site-packages\\keras\\optimizers\\optimizer_v2\\adam.py:114: UserWarning: The `lr` argument is deprecated, use `learning_rate` instead.\n",
      "  super().__init__(name, **kwargs)\n"
     ]
    },
    {
     "name": "stdout",
     "output_type": "stream",
     "text": [
      "Training for 50000 steps ...\n",
      "Interval 1 (0 steps performed)\n",
      "\r",
      "    1/10000 [..............................] - ETA: 7:28 - reward: -1.0000"
     ]
    },
    {
     "name": "stderr",
     "output_type": "stream",
     "text": [
      "C:\\Users\\Dylan\\anaconda3\\lib\\site-packages\\keras\\engine\\training_v1.py:2356: UserWarning: `Model.state_updates` will be removed in a future version. This property should not be used in TensorFlow 2.0, as `updates` are applied automatically.\n",
      "  updates=self.state_updates,\n",
      "C:\\Users\\Dylan\\anaconda3\\lib\\site-packages\\rl\\memory.py:37: UserWarning: Not enough entries to sample without replacement. Consider increasing your warm-up phase to avoid oversampling!\n",
      "  warnings.warn('Not enough entries to sample without replacement. Consider increasing your warm-up phase to avoid oversampling!')\n",
      "C:\\Users\\Dylan\\anaconda3\\lib\\site-packages\\rl\\memory.py:38: DeprecationWarning: This function is deprecated. Please call randint(1, 13 + 1) instead\n",
      "  batch_idxs = np.random.random_integers(low, high - 1, size=size)\n"
     ]
    },
    {
     "name": "stdout",
     "output_type": "stream",
     "text": [
      "   39/10000 [..............................] - ETA: 2:16 - reward: -0.4872"
     ]
    },
    {
     "name": "stderr",
     "output_type": "stream",
     "text": [
      "C:\\Users\\Dylan\\anaconda3\\lib\\site-packages\\rl\\memory.py:38: DeprecationWarning: This function is deprecated. Please call randint(1, 14 + 1) instead\n",
      "  batch_idxs = np.random.random_integers(low, high - 1, size=size)\n",
      "C:\\Users\\Dylan\\anaconda3\\lib\\site-packages\\rl\\memory.py:38: DeprecationWarning: This function is deprecated. Please call randint(1, 15 + 1) instead\n",
      "  batch_idxs = np.random.random_integers(low, high - 1, size=size)\n",
      "C:\\Users\\Dylan\\anaconda3\\lib\\site-packages\\rl\\memory.py:38: DeprecationWarning: This function is deprecated. Please call randint(1, 16 + 1) instead\n",
      "  batch_idxs = np.random.random_integers(low, high - 1, size=size)\n",
      "C:\\Users\\Dylan\\anaconda3\\lib\\site-packages\\rl\\memory.py:38: DeprecationWarning: This function is deprecated. Please call randint(1, 17 + 1) instead\n",
      "  batch_idxs = np.random.random_integers(low, high - 1, size=size)\n",
      "C:\\Users\\Dylan\\anaconda3\\lib\\site-packages\\rl\\memory.py:38: DeprecationWarning: This function is deprecated. Please call randint(1, 18 + 1) instead\n",
      "  batch_idxs = np.random.random_integers(low, high - 1, size=size)\n",
      "C:\\Users\\Dylan\\anaconda3\\lib\\site-packages\\rl\\memory.py:38: DeprecationWarning: This function is deprecated. Please call randint(1, 19 + 1) instead\n",
      "  batch_idxs = np.random.random_integers(low, high - 1, size=size)\n",
      "C:\\Users\\Dylan\\anaconda3\\lib\\site-packages\\rl\\memory.py:38: DeprecationWarning: This function is deprecated. Please call randint(1, 20 + 1) instead\n",
      "  batch_idxs = np.random.random_integers(low, high - 1, size=size)\n",
      "C:\\Users\\Dylan\\anaconda3\\lib\\site-packages\\rl\\memory.py:38: DeprecationWarning: This function is deprecated. Please call randint(1, 21 + 1) instead\n",
      "  batch_idxs = np.random.random_integers(low, high - 1, size=size)\n",
      "C:\\Users\\Dylan\\anaconda3\\lib\\site-packages\\rl\\memory.py:38: DeprecationWarning: This function is deprecated. Please call randint(1, 22 + 1) instead\n",
      "  batch_idxs = np.random.random_integers(low, high - 1, size=size)\n",
      "C:\\Users\\Dylan\\anaconda3\\lib\\site-packages\\rl\\memory.py:38: DeprecationWarning: This function is deprecated. Please call randint(1, 23 + 1) instead\n",
      "  batch_idxs = np.random.random_integers(low, high - 1, size=size)\n",
      "C:\\Users\\Dylan\\anaconda3\\lib\\site-packages\\rl\\memory.py:38: DeprecationWarning: This function is deprecated. Please call randint(1, 24 + 1) instead\n",
      "  batch_idxs = np.random.random_integers(low, high - 1, size=size)\n",
      "C:\\Users\\Dylan\\anaconda3\\lib\\site-packages\\rl\\memory.py:38: DeprecationWarning: This function is deprecated. Please call randint(1, 25 + 1) instead\n",
      "  batch_idxs = np.random.random_integers(low, high - 1, size=size)\n",
      "C:\\Users\\Dylan\\anaconda3\\lib\\site-packages\\rl\\memory.py:38: DeprecationWarning: This function is deprecated. Please call randint(1, 26 + 1) instead\n",
      "  batch_idxs = np.random.random_integers(low, high - 1, size=size)\n",
      "C:\\Users\\Dylan\\anaconda3\\lib\\site-packages\\rl\\memory.py:38: DeprecationWarning: This function is deprecated. Please call randint(1, 27 + 1) instead\n",
      "  batch_idxs = np.random.random_integers(low, high - 1, size=size)\n",
      "C:\\Users\\Dylan\\anaconda3\\lib\\site-packages\\rl\\memory.py:38: DeprecationWarning: This function is deprecated. Please call randint(1, 28 + 1) instead\n",
      "  batch_idxs = np.random.random_integers(low, high - 1, size=size)\n",
      "C:\\Users\\Dylan\\anaconda3\\lib\\site-packages\\rl\\memory.py:38: DeprecationWarning: This function is deprecated. Please call randint(1, 29 + 1) instead\n",
      "  batch_idxs = np.random.random_integers(low, high - 1, size=size)\n",
      "C:\\Users\\Dylan\\anaconda3\\lib\\site-packages\\rl\\memory.py:38: DeprecationWarning: This function is deprecated. Please call randint(1, 30 + 1) instead\n",
      "  batch_idxs = np.random.random_integers(low, high - 1, size=size)\n",
      "C:\\Users\\Dylan\\anaconda3\\lib\\site-packages\\rl\\memory.py:38: DeprecationWarning: This function is deprecated. Please call randint(1, 31 + 1) instead\n",
      "  batch_idxs = np.random.random_integers(low, high - 1, size=size)\n"
     ]
    },
    {
     "name": "stdout",
     "output_type": "stream",
     "text": [
      "10000/10000 [==============================] - 59s 6ms/step - reward: -0.4720\n",
      "2765 episodes - episode_reward: -1.707 [-10.000, 1.000] - loss: 0.811 - mae: 1.224 - mean_q: -1.008\n",
      "\n",
      "Interval 2 (10000 steps performed)\n",
      "10000/10000 [==============================] - 64s 6ms/step - reward: -0.4408\n",
      "2902 episodes - episode_reward: -1.519 [-10.000, 1.000] - loss: 0.792 - mae: 1.178 - mean_q: -0.935\n",
      "\n",
      "Interval 3 (20000 steps performed)\n",
      "10000/10000 [==============================] - 65s 6ms/step - reward: -0.4446\n",
      "2871 episodes - episode_reward: -1.549 [-10.000, 1.000] - loss: 0.806 - mae: 1.184 - mean_q: -0.942\n",
      "\n",
      "Interval 4 (30000 steps performed)\n",
      "10000/10000 [==============================] - 67s 7ms/step - reward: -0.4500\n",
      "2863 episodes - episode_reward: -1.570 [-10.000, 1.000] - loss: 0.812 - mae: 1.191 - mean_q: -0.952\n",
      "\n",
      "Interval 5 (40000 steps performed)\n",
      "10000/10000 [==============================] - 68s 7ms/step - reward: -0.4484\n",
      "done, took 321.785 seconds\n"
     ]
    },
    {
     "data": {
      "text/plain": [
       "<keras.callbacks.History at 0x1c58a769430>"
      ]
     },
     "execution_count": 9,
     "metadata": {},
     "output_type": "execute_result"
    }
   ],
   "source": [
    "dqn = build_agent(model, actions)\n",
    "dqn.compile(Adam(lr=1e-3), metrics=['mae'])\n",
    "dqn.fit(env, nb_steps=50000, visualize=False, verbose=1)"
   ]
  },
  {
   "cell_type": "markdown",
   "id": "d0fe808e",
   "metadata": {},
   "source": [
    "# Model Testing"
   ]
  },
  {
   "cell_type": "code",
   "execution_count": 10,
   "id": "fc53f969",
   "metadata": {},
   "outputs": [],
   "source": [
    "class TestZoneEnv(Env):\n",
    "    def __init__(self):\n",
    "        # Actions we can take: Guess 1 of 4 zones\n",
    "        self.action_space = Discrete(4)\n",
    "        #  array\n",
    "        self.observation_space = Box(low=np.array([0]), high=np.array([3]))\n",
    "        # Set initial Zone Guess\n",
    "        self.state = 0\n",
    "        # Import the real Zone's sensor data\n",
    "        sample = data[Num]\n",
    "        self.sensor_data = sample\n",
    "        # Set amount of guesses per run\n",
    "        self.guess_length = 10\n",
    "        \n",
    "    def step(self, action):\n",
    "        # Difine the sensor values for each Zone\n",
    "        sensor_zone = [Zone_1, Zone_2, Zone_3, Zone_4]\n",
    "        #apply the action\n",
    "        self.state = action\n",
    "        # Reduce guess length by 1\n",
    "        self.guess_length -= 1 \n",
    "        \n",
    "        # Calculate reward\n",
    "        # if the sensor data is in the chosen zone class, reward = 1\n",
    "        if self.sensor_data in sensor_zone[self.state]: \n",
    "            reward = 1\n",
    "            correct = True\n",
    "        else: \n",
    "            reward = -1\n",
    "            correct = False\n",
    "        \n",
    "        # Check if guessing is done\n",
    "        if self.guess_length <= 0 or correct == True: \n",
    "            done = True\n",
    "        else:\n",
    "            done = False\n",
    "        \n",
    "        # Set placeholder for info\n",
    "        info = {}\n",
    "        \n",
    "        # Return step information\n",
    "        return self.state, reward, done, info\n",
    "\n",
    "    def render(self):\n",
    "        # Implement viz\n",
    "        pass\n",
    "    \n",
    "    def reset(self):\n",
    "        # Reset Initial Zone Guess\n",
    "        self.state = 0\n",
    "        # Import a new Zone's sensor data\n",
    "        sample = data[Num]\n",
    "        self.sensor_data = sample\n",
    "        # Reset Guess amount\n",
    "        self.guess_length = 10\n",
    "        return self.state"
   ]
  },
  {
   "cell_type": "code",
   "execution_count": 51,
   "id": "7d6002e7",
   "metadata": {},
   "outputs": [],
   "source": [
    "# Choose the zone the Agent is in.\n",
    "\n",
    "Zone = 3\n",
    "Num = 5*(Zone -1) + 1"
   ]
  },
  {
   "cell_type": "code",
   "execution_count": 52,
   "id": "6a048c74",
   "metadata": {},
   "outputs": [
    {
     "name": "stdout",
     "output_type": "stream",
     "text": [
      "Testing for 2 episodes ...\n",
      "Episode 1: reward: 1.000, steps: 1\n",
      "Episode 2: reward: 1.000, steps: 1\n",
      "1.0\n"
     ]
    }
   ],
   "source": [
    "# Test to determine if the Agent knows where it is.\n",
    "env = TestZoneEnv()\n",
    "\n",
    "scores = dqn.test(env, nb_episodes=2, visualize=False)\n",
    "print(np.mean(scores.history['episode_reward']))"
   ]
  }
 ],
 "metadata": {
  "kernelspec": {
   "display_name": "Python 3 (ipykernel)",
   "language": "python",
   "name": "python3"
  },
  "language_info": {
   "codemirror_mode": {
    "name": "ipython",
    "version": 3
   },
   "file_extension": ".py",
   "mimetype": "text/x-python",
   "name": "python",
   "nbconvert_exporter": "python",
   "pygments_lexer": "ipython3",
   "version": "3.9.7"
  }
 },
 "nbformat": 4,
 "nbformat_minor": 5
}
